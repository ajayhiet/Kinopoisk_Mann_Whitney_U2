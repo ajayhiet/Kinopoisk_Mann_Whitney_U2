{
 "cells": [
  {
   "cell_type": "code",
   "execution_count": 118,
   "id": "94e399de",
   "metadata": {},
   "outputs": [],
   "source": [
    "import pandas as pd\n",
    "import numpy as np\n",
    "import matplotlib.pyplot as plt\n",
    "import seaborn as sns\n"
   ]
  },
  {
   "cell_type": "code",
   "execution_count": 119,
   "id": "73ffe24c",
   "metadata": {},
   "outputs": [
    {
     "name": "stdout",
     "output_type": "stream",
     "text": [
      "Analytics.ipynb             customers_sample.csv\r\n",
      "Homework 1 description.pdf  merchant codes list.xls\r\n",
      "Useful liks for HW1.docx    transactional_data.csv\r\n"
     ]
    }
   ],
   "source": [
    "ls"
   ]
  },
  {
   "cell_type": "code",
   "execution_count": 120,
   "id": "504acc26",
   "metadata": {},
   "outputs": [],
   "source": [
    "cust = pd.read_csv('customers_sample.csv',sep=';',low_memory=False)\n",
    "trans = pd.read_csv('transactional_data.csv')\n",
    "codes = pd.read_excel('merchant codes list.xls')"
   ]
  },
  {
   "cell_type": "code",
   "execution_count": 121,
   "id": "455195f5",
   "metadata": {},
   "outputs": [
    {
     "data": {
      "text/html": [
       "<div>\n",
       "<style scoped>\n",
       "    .dataframe tbody tr th:only-of-type {\n",
       "        vertical-align: middle;\n",
       "    }\n",
       "\n",
       "    .dataframe tbody tr th {\n",
       "        vertical-align: top;\n",
       "    }\n",
       "\n",
       "    .dataframe thead th {\n",
       "        text-align: right;\n",
       "    }\n",
       "</style>\n",
       "<table border=\"1\" class=\"dataframe\">\n",
       "  <thead>\n",
       "    <tr style=\"text-align: right;\">\n",
       "      <th></th>\n",
       "      <th>uid1</th>\n",
       "      <th>customer_age</th>\n",
       "      <th>country</th>\n",
       "      <th>city_of_living</th>\n",
       "      <th>registration_dt</th>\n",
       "      <th>website_last_visit_date</th>\n",
       "      <th>email</th>\n",
       "      <th>has_mob_app</th>\n",
       "      <th>phone_number</th>\n",
       "      <th>push</th>\n",
       "    </tr>\n",
       "  </thead>\n",
       "  <tbody>\n",
       "    <tr>\n",
       "      <th>0</th>\n",
       "      <td>8388.0</td>\n",
       "      <td>46.0</td>\n",
       "      <td>RUSSIA</td>\n",
       "      <td>Kazan</td>\n",
       "      <td>18.02.2017</td>\n",
       "      <td>01.05.2019</td>\n",
       "      <td>0.0</td>\n",
       "      <td>0.0</td>\n",
       "      <td>1.0</td>\n",
       "      <td>0.0</td>\n",
       "    </tr>\n",
       "    <tr>\n",
       "      <th>1</th>\n",
       "      <td>17264.0</td>\n",
       "      <td>20.0</td>\n",
       "      <td>RUSSIA</td>\n",
       "      <td>Sevastopol</td>\n",
       "      <td>21.07.2020</td>\n",
       "      <td>03.10.2021</td>\n",
       "      <td>0.0</td>\n",
       "      <td>0.0</td>\n",
       "      <td>1.0</td>\n",
       "      <td>0.0</td>\n",
       "    </tr>\n",
       "    <tr>\n",
       "      <th>2</th>\n",
       "      <td>17373.0</td>\n",
       "      <td>31.0</td>\n",
       "      <td>RUSSIA</td>\n",
       "      <td>Kazan</td>\n",
       "      <td>26.02.2016</td>\n",
       "      <td>24.12.2018</td>\n",
       "      <td>0.0</td>\n",
       "      <td>1.0</td>\n",
       "      <td>1.0</td>\n",
       "      <td>0.0</td>\n",
       "    </tr>\n",
       "    <tr>\n",
       "      <th>3</th>\n",
       "      <td>26297.0</td>\n",
       "      <td>27.0</td>\n",
       "      <td>RUSSIA</td>\n",
       "      <td>Sevastopol</td>\n",
       "      <td>25.01.2018</td>\n",
       "      <td>16.04.2018</td>\n",
       "      <td>0.0</td>\n",
       "      <td>1.0</td>\n",
       "      <td>1.0</td>\n",
       "      <td>1.0</td>\n",
       "    </tr>\n",
       "    <tr>\n",
       "      <th>4</th>\n",
       "      <td>27044.0</td>\n",
       "      <td>41.0</td>\n",
       "      <td>RUSSIA</td>\n",
       "      <td>Sevastopol</td>\n",
       "      <td>17.07.2015</td>\n",
       "      <td>30.07.2016</td>\n",
       "      <td>0.0</td>\n",
       "      <td>0.0</td>\n",
       "      <td>0.0</td>\n",
       "      <td>0.0</td>\n",
       "    </tr>\n",
       "  </tbody>\n",
       "</table>\n",
       "</div>"
      ],
      "text/plain": [
       "      uid1  customer_age country city_of_living registration_dt  \\\n",
       "0   8388.0          46.0  RUSSIA          Kazan      18.02.2017   \n",
       "1  17264.0          20.0  RUSSIA     Sevastopol      21.07.2020   \n",
       "2  17373.0          31.0  RUSSIA          Kazan      26.02.2016   \n",
       "3  26297.0          27.0  RUSSIA     Sevastopol      25.01.2018   \n",
       "4  27044.0          41.0  RUSSIA     Sevastopol      17.07.2015   \n",
       "\n",
       "  website_last_visit_date  email  has_mob_app  phone_number  push  \n",
       "0              01.05.2019    0.0          0.0           1.0   0.0  \n",
       "1              03.10.2021    0.0          0.0           1.0   0.0  \n",
       "2              24.12.2018    0.0          1.0           1.0   0.0  \n",
       "3              16.04.2018    0.0          1.0           1.0   1.0  \n",
       "4              30.07.2016    0.0          0.0           0.0   0.0  "
      ]
     },
     "execution_count": 121,
     "metadata": {},
     "output_type": "execute_result"
    }
   ],
   "source": [
    "cust.head()"
   ]
  },
  {
   "cell_type": "code",
   "execution_count": 122,
   "id": "fa5034aa",
   "metadata": {},
   "outputs": [
    {
     "data": {
      "text/html": [
       "<div>\n",
       "<style scoped>\n",
       "    .dataframe tbody tr th:only-of-type {\n",
       "        vertical-align: middle;\n",
       "    }\n",
       "\n",
       "    .dataframe tbody tr th {\n",
       "        vertical-align: top;\n",
       "    }\n",
       "\n",
       "    .dataframe thead th {\n",
       "        text-align: right;\n",
       "    }\n",
       "</style>\n",
       "<table border=\"1\" class=\"dataframe\">\n",
       "  <thead>\n",
       "    <tr style=\"text-align: right;\">\n",
       "      <th></th>\n",
       "      <th>uid1</th>\n",
       "      <th>date_pur</th>\n",
       "      <th>mcc_id</th>\n",
       "      <th>transaction_amt</th>\n",
       "      <th>transaction_qty</th>\n",
       "    </tr>\n",
       "  </thead>\n",
       "  <tbody>\n",
       "    <tr>\n",
       "      <th>0</th>\n",
       "      <td>14164181</td>\n",
       "      <td>10/09/2020</td>\n",
       "      <td>5499</td>\n",
       "      <td>418.00</td>\n",
       "      <td>1</td>\n",
       "    </tr>\n",
       "    <tr>\n",
       "      <th>1</th>\n",
       "      <td>15453249</td>\n",
       "      <td>10/08/2020</td>\n",
       "      <td>5541</td>\n",
       "      <td>1034.00</td>\n",
       "      <td>1</td>\n",
       "    </tr>\n",
       "    <tr>\n",
       "      <th>2</th>\n",
       "      <td>41571339</td>\n",
       "      <td>12/09/2020</td>\n",
       "      <td>5411</td>\n",
       "      <td>57.98</td>\n",
       "      <td>1</td>\n",
       "    </tr>\n",
       "    <tr>\n",
       "      <th>3</th>\n",
       "      <td>2044223</td>\n",
       "      <td>28/06/2021</td>\n",
       "      <td>5921</td>\n",
       "      <td>549.40</td>\n",
       "      <td>4</td>\n",
       "    </tr>\n",
       "    <tr>\n",
       "      <th>4</th>\n",
       "      <td>33493259</td>\n",
       "      <td>20/07/2020</td>\n",
       "      <td>4121</td>\n",
       "      <td>578.00</td>\n",
       "      <td>2</td>\n",
       "    </tr>\n",
       "  </tbody>\n",
       "</table>\n",
       "</div>"
      ],
      "text/plain": [
       "       uid1    date_pur  mcc_id  transaction_amt  transaction_qty\n",
       "0  14164181  10/09/2020    5499           418.00                1\n",
       "1  15453249  10/08/2020    5541          1034.00                1\n",
       "2  41571339  12/09/2020    5411            57.98                1\n",
       "3   2044223  28/06/2021    5921           549.40                4\n",
       "4  33493259  20/07/2020    4121           578.00                2"
      ]
     },
     "execution_count": 122,
     "metadata": {},
     "output_type": "execute_result"
    }
   ],
   "source": [
    "trans.head()"
   ]
  },
  {
   "cell_type": "code",
   "execution_count": 123,
   "id": "6694f600",
   "metadata": {},
   "outputs": [
    {
     "data": {
      "text/html": [
       "<div>\n",
       "<style scoped>\n",
       "    .dataframe tbody tr th:only-of-type {\n",
       "        vertical-align: middle;\n",
       "    }\n",
       "\n",
       "    .dataframe tbody tr th {\n",
       "        vertical-align: top;\n",
       "    }\n",
       "\n",
       "    .dataframe thead th {\n",
       "        text-align: right;\n",
       "    }\n",
       "</style>\n",
       "<table border=\"1\" class=\"dataframe\">\n",
       "  <thead>\n",
       "    <tr style=\"text-align: right;\">\n",
       "      <th></th>\n",
       "      <th>STANDARD MERCHANT CATEGORY CODES\\n**Please do not sort this spreadsheet**</th>\n",
       "      <th>Unnamed: 1</th>\n",
       "      <th>Unnamed: 2</th>\n",
       "    </tr>\n",
       "  </thead>\n",
       "  <tbody>\n",
       "    <tr>\n",
       "      <th>0</th>\n",
       "      <td>MCC CODE</td>\n",
       "      <td>Program Type:</td>\n",
       "      <td>NaN</td>\n",
       "    </tr>\n",
       "    <tr>\n",
       "      <th>1</th>\n",
       "      <td>0742</td>\n",
       "      <td>Veterinary Services</td>\n",
       "      <td>NaN</td>\n",
       "    </tr>\n",
       "    <tr>\n",
       "      <th>2</th>\n",
       "      <td>0763</td>\n",
       "      <td>Agricultural Cooperatives</td>\n",
       "      <td>NaN</td>\n",
       "    </tr>\n",
       "    <tr>\n",
       "      <th>3</th>\n",
       "      <td>0780</td>\n",
       "      <td>Landscaping and Horticultural Services</td>\n",
       "      <td>NaN</td>\n",
       "    </tr>\n",
       "    <tr>\n",
       "      <th>4</th>\n",
       "      <td>1520</td>\n",
       "      <td>General Contractor/Residential Building</td>\n",
       "      <td>NaN</td>\n",
       "    </tr>\n",
       "  </tbody>\n",
       "</table>\n",
       "</div>"
      ],
      "text/plain": [
       "  STANDARD MERCHANT CATEGORY CODES\\n**Please do not sort this spreadsheet**  \\\n",
       "0                                           MCC CODE                          \n",
       "1                                               0742                          \n",
       "2                                               0763                          \n",
       "3                                               0780                          \n",
       "4                                               1520                          \n",
       "\n",
       "                                Unnamed: 1 Unnamed: 2  \n",
       "0                            Program Type:        NaN  \n",
       "1                      Veterinary Services        NaN  \n",
       "2                Agricultural Cooperatives        NaN  \n",
       "3   Landscaping and Horticultural Services        NaN  \n",
       "4  General Contractor/Residential Building        NaN  "
      ]
     },
     "execution_count": 123,
     "metadata": {},
     "output_type": "execute_result"
    }
   ],
   "source": [
    "codes.head()"
   ]
  },
  {
   "cell_type": "code",
   "execution_count": 124,
   "id": "082c930f",
   "metadata": {},
   "outputs": [
    {
     "data": {
      "text/plain": [
       "uid1                       1038575\n",
       "customer_age               1038586\n",
       "country                    1038575\n",
       "city_of_living             1038575\n",
       "registration_dt            1038664\n",
       "website_last_visit_date    1038800\n",
       "email                      1038575\n",
       "has_mob_app                1038575\n",
       "phone_number               1038575\n",
       "push                       1038575\n",
       "dtype: int64"
      ]
     },
     "execution_count": 124,
     "metadata": {},
     "output_type": "execute_result"
    }
   ],
   "source": [
    "cust.isna().sum()"
   ]
  },
  {
   "cell_type": "code",
   "execution_count": 125,
   "id": "9a4089c1",
   "metadata": {},
   "outputs": [
    {
     "data": {
      "text/plain": [
       "(1048575, 10)"
      ]
     },
     "execution_count": 125,
     "metadata": {},
     "output_type": "execute_result"
    }
   ],
   "source": [
    "cust.shape"
   ]
  },
  {
   "cell_type": "code",
   "execution_count": 126,
   "id": "6d2c73fd",
   "metadata": {},
   "outputs": [
    {
     "data": {
      "text/plain": [
       "uid1               0\n",
       "date_pur           0\n",
       "mcc_id             0\n",
       "transaction_amt    0\n",
       "transaction_qty    0\n",
       "dtype: int64"
      ]
     },
     "execution_count": 126,
     "metadata": {},
     "output_type": "execute_result"
    }
   ],
   "source": [
    "trans.isna().sum()"
   ]
  },
  {
   "cell_type": "code",
   "execution_count": 127,
   "id": "27543aec",
   "metadata": {},
   "outputs": [
    {
     "data": {
      "text/plain": [
       "STANDARD MERCHANT CATEGORY CODES\\n**Please do not sort this spreadsheet**      1\n",
       "Unnamed: 1                                                                     0\n",
       "Unnamed: 2                                                                   867\n",
       "dtype: int64"
      ]
     },
     "execution_count": 127,
     "metadata": {},
     "output_type": "execute_result"
    }
   ],
   "source": [
    "codes.isna().sum()"
   ]
  },
  {
   "cell_type": "code",
   "execution_count": 128,
   "id": "7960f678",
   "metadata": {},
   "outputs": [
    {
     "data": {
      "text/plain": [
       "(882, 3)"
      ]
     },
     "execution_count": 128,
     "metadata": {},
     "output_type": "execute_result"
    }
   ],
   "source": [
    "codes.shape"
   ]
  },
  {
   "cell_type": "code",
   "execution_count": 129,
   "id": "b649c0f8",
   "metadata": {},
   "outputs": [],
   "source": [
    "codes = codes.rename(columns={'STANDARD MERCHANT CATEGORY CODES\\n**Please do not sort this spreadsheet**':'mcc_id',\n",
    "                             'Unnamed: 1':'program_type'})"
   ]
  },
  {
   "cell_type": "code",
   "execution_count": 130,
   "id": "637eadcd",
   "metadata": {},
   "outputs": [],
   "source": [
    "codes = codes.iloc[1:,:]"
   ]
  },
  {
   "cell_type": "code",
   "execution_count": 131,
   "id": "787e0e78",
   "metadata": {},
   "outputs": [],
   "source": [
    "codes = codes.iloc[:,0:2]"
   ]
  },
  {
   "cell_type": "code",
   "execution_count": 132,
   "id": "046df5b1",
   "metadata": {},
   "outputs": [],
   "source": [
    "codes = codes.reset_index(drop=True)"
   ]
  },
  {
   "cell_type": "code",
   "execution_count": 133,
   "id": "727ae108",
   "metadata": {},
   "outputs": [
    {
     "data": {
      "text/html": [
       "<div>\n",
       "<style scoped>\n",
       "    .dataframe tbody tr th:only-of-type {\n",
       "        vertical-align: middle;\n",
       "    }\n",
       "\n",
       "    .dataframe tbody tr th {\n",
       "        vertical-align: top;\n",
       "    }\n",
       "\n",
       "    .dataframe thead th {\n",
       "        text-align: right;\n",
       "    }\n",
       "</style>\n",
       "<table border=\"1\" class=\"dataframe\">\n",
       "  <thead>\n",
       "    <tr style=\"text-align: right;\">\n",
       "      <th></th>\n",
       "      <th>mcc_id</th>\n",
       "      <th>program_type</th>\n",
       "    </tr>\n",
       "  </thead>\n",
       "  <tbody>\n",
       "    <tr>\n",
       "      <th>0</th>\n",
       "      <td>0742</td>\n",
       "      <td>Veterinary Services</td>\n",
       "    </tr>\n",
       "    <tr>\n",
       "      <th>1</th>\n",
       "      <td>0763</td>\n",
       "      <td>Agricultural Cooperatives</td>\n",
       "    </tr>\n",
       "    <tr>\n",
       "      <th>2</th>\n",
       "      <td>0780</td>\n",
       "      <td>Landscaping and Horticultural Services</td>\n",
       "    </tr>\n",
       "    <tr>\n",
       "      <th>3</th>\n",
       "      <td>1520</td>\n",
       "      <td>General Contractor/Residential Building</td>\n",
       "    </tr>\n",
       "    <tr>\n",
       "      <th>4</th>\n",
       "      <td>1711</td>\n",
       "      <td>Heating, Plumbing, Air Conditioning Contractors</td>\n",
       "    </tr>\n",
       "  </tbody>\n",
       "</table>\n",
       "</div>"
      ],
      "text/plain": [
       "  mcc_id                                     program_type\n",
       "0   0742                              Veterinary Services\n",
       "1   0763                        Agricultural Cooperatives\n",
       "2   0780           Landscaping and Horticultural Services\n",
       "3   1520          General Contractor/Residential Building\n",
       "4   1711  Heating, Plumbing, Air Conditioning Contractors"
      ]
     },
     "execution_count": 133,
     "metadata": {},
     "output_type": "execute_result"
    }
   ],
   "source": [
    "codes.head()"
   ]
  },
  {
   "cell_type": "code",
   "execution_count": 136,
   "id": "7726e89b",
   "metadata": {},
   "outputs": [
    {
     "data": {
      "text/html": [
       "<div>\n",
       "<style scoped>\n",
       "    .dataframe tbody tr th:only-of-type {\n",
       "        vertical-align: middle;\n",
       "    }\n",
       "\n",
       "    .dataframe tbody tr th {\n",
       "        vertical-align: top;\n",
       "    }\n",
       "\n",
       "    .dataframe thead th {\n",
       "        text-align: right;\n",
       "    }\n",
       "</style>\n",
       "<table border=\"1\" class=\"dataframe\">\n",
       "  <thead>\n",
       "    <tr style=\"text-align: right;\">\n",
       "      <th></th>\n",
       "      <th>uid1</th>\n",
       "      <th>date_pur</th>\n",
       "      <th>mcc_id</th>\n",
       "      <th>transaction_amt</th>\n",
       "      <th>transaction_qty</th>\n",
       "    </tr>\n",
       "  </thead>\n",
       "  <tbody>\n",
       "    <tr>\n",
       "      <th>0</th>\n",
       "      <td>14164181</td>\n",
       "      <td>10/09/2020</td>\n",
       "      <td>5499</td>\n",
       "      <td>418.00</td>\n",
       "      <td>1</td>\n",
       "    </tr>\n",
       "    <tr>\n",
       "      <th>1</th>\n",
       "      <td>15453249</td>\n",
       "      <td>10/08/2020</td>\n",
       "      <td>5541</td>\n",
       "      <td>1034.00</td>\n",
       "      <td>1</td>\n",
       "    </tr>\n",
       "    <tr>\n",
       "      <th>2</th>\n",
       "      <td>41571339</td>\n",
       "      <td>12/09/2020</td>\n",
       "      <td>5411</td>\n",
       "      <td>57.98</td>\n",
       "      <td>1</td>\n",
       "    </tr>\n",
       "    <tr>\n",
       "      <th>3</th>\n",
       "      <td>2044223</td>\n",
       "      <td>28/06/2021</td>\n",
       "      <td>5921</td>\n",
       "      <td>549.40</td>\n",
       "      <td>4</td>\n",
       "    </tr>\n",
       "    <tr>\n",
       "      <th>4</th>\n",
       "      <td>33493259</td>\n",
       "      <td>20/07/2020</td>\n",
       "      <td>4121</td>\n",
       "      <td>578.00</td>\n",
       "      <td>2</td>\n",
       "    </tr>\n",
       "  </tbody>\n",
       "</table>\n",
       "</div>"
      ],
      "text/plain": [
       "       uid1    date_pur  mcc_id  transaction_amt  transaction_qty\n",
       "0  14164181  10/09/2020    5499           418.00                1\n",
       "1  15453249  10/08/2020    5541          1034.00                1\n",
       "2  41571339  12/09/2020    5411            57.98                1\n",
       "3   2044223  28/06/2021    5921           549.40                4\n",
       "4  33493259  20/07/2020    4121           578.00                2"
      ]
     },
     "execution_count": 136,
     "metadata": {},
     "output_type": "execute_result"
    }
   ],
   "source": [
    "trans.head()    "
   ]
  },
  {
   "cell_type": "code",
   "execution_count": 141,
   "id": "95d84705",
   "metadata": {},
   "outputs": [],
   "source": [
    "data = pd.merge(trans,codes,on='mcc_id',how='left')"
   ]
  },
  {
   "cell_type": "code",
   "execution_count": 144,
   "id": "49a84704",
   "metadata": {},
   "outputs": [
    {
     "data": {
      "text/html": [
       "<div>\n",
       "<style scoped>\n",
       "    .dataframe tbody tr th:only-of-type {\n",
       "        vertical-align: middle;\n",
       "    }\n",
       "\n",
       "    .dataframe tbody tr th {\n",
       "        vertical-align: top;\n",
       "    }\n",
       "\n",
       "    .dataframe thead th {\n",
       "        text-align: right;\n",
       "    }\n",
       "</style>\n",
       "<table border=\"1\" class=\"dataframe\">\n",
       "  <thead>\n",
       "    <tr style=\"text-align: right;\">\n",
       "      <th></th>\n",
       "      <th>uid1</th>\n",
       "      <th>date_pur</th>\n",
       "      <th>mcc_id</th>\n",
       "      <th>transaction_amt</th>\n",
       "      <th>transaction_qty</th>\n",
       "      <th>program_type</th>\n",
       "    </tr>\n",
       "  </thead>\n",
       "  <tbody>\n",
       "    <tr>\n",
       "      <th>0</th>\n",
       "      <td>14164181</td>\n",
       "      <td>10/09/2020</td>\n",
       "      <td>5499</td>\n",
       "      <td>418.00</td>\n",
       "      <td>1</td>\n",
       "      <td>Miscellaneous Food Stores-Convenience Stores a...</td>\n",
       "    </tr>\n",
       "    <tr>\n",
       "      <th>1</th>\n",
       "      <td>15453249</td>\n",
       "      <td>10/08/2020</td>\n",
       "      <td>5541</td>\n",
       "      <td>1034.00</td>\n",
       "      <td>1</td>\n",
       "      <td>Service Stations (with or without Ancillary Se...</td>\n",
       "    </tr>\n",
       "    <tr>\n",
       "      <th>2</th>\n",
       "      <td>41571339</td>\n",
       "      <td>12/09/2020</td>\n",
       "      <td>5411</td>\n",
       "      <td>57.98</td>\n",
       "      <td>1</td>\n",
       "      <td>Grocery Stores and Supermarkets</td>\n",
       "    </tr>\n",
       "    <tr>\n",
       "      <th>3</th>\n",
       "      <td>2044223</td>\n",
       "      <td>28/06/2021</td>\n",
       "      <td>5921</td>\n",
       "      <td>549.40</td>\n",
       "      <td>4</td>\n",
       "      <td>Package Stores--Beer, Wine, and Liquor</td>\n",
       "    </tr>\n",
       "    <tr>\n",
       "      <th>4</th>\n",
       "      <td>33493259</td>\n",
       "      <td>20/07/2020</td>\n",
       "      <td>4121</td>\n",
       "      <td>578.00</td>\n",
       "      <td>2</td>\n",
       "      <td>Taxicabs and Limousines</td>\n",
       "    </tr>\n",
       "  </tbody>\n",
       "</table>\n",
       "</div>"
      ],
      "text/plain": [
       "       uid1    date_pur mcc_id  transaction_amt  transaction_qty  \\\n",
       "0  14164181  10/09/2020   5499           418.00                1   \n",
       "1  15453249  10/08/2020   5541          1034.00                1   \n",
       "2  41571339  12/09/2020   5411            57.98                1   \n",
       "3   2044223  28/06/2021   5921           549.40                4   \n",
       "4  33493259  20/07/2020   4121           578.00                2   \n",
       "\n",
       "                                        program_type  \n",
       "0  Miscellaneous Food Stores-Convenience Stores a...  \n",
       "1  Service Stations (with or without Ancillary Se...  \n",
       "2                    Grocery Stores and Supermarkets  \n",
       "3             Package Stores--Beer, Wine, and Liquor  \n",
       "4                            Taxicabs and Limousines  "
      ]
     },
     "execution_count": 144,
     "metadata": {},
     "output_type": "execute_result"
    }
   ],
   "source": [
    "data.head()"
   ]
  },
  {
   "cell_type": "code",
   "execution_count": 145,
   "id": "32b39628",
   "metadata": {},
   "outputs": [
    {
     "data": {
      "text/plain": [
       "uid1                  0\n",
       "date_pur              0\n",
       "mcc_id                0\n",
       "transaction_amt       0\n",
       "transaction_qty       0\n",
       "program_type       1030\n",
       "dtype: int64"
      ]
     },
     "execution_count": 145,
     "metadata": {},
     "output_type": "execute_result"
    }
   ],
   "source": [
    "data.isna().sum()"
   ]
  },
  {
   "cell_type": "code",
   "execution_count": 146,
   "id": "5697a69d",
   "metadata": {},
   "outputs": [],
   "source": [
    "cust = cust.dropna()"
   ]
  },
  {
   "cell_type": "code",
   "execution_count": 147,
   "id": "b419e29b",
   "metadata": {},
   "outputs": [
    {
     "data": {
      "text/plain": [
       "(9675, 10)"
      ]
     },
     "execution_count": 147,
     "metadata": {},
     "output_type": "execute_result"
    }
   ],
   "source": [
    "cust.shape"
   ]
  },
  {
   "cell_type": "code",
   "execution_count": 148,
   "id": "a0fd9a31",
   "metadata": {},
   "outputs": [
    {
     "data": {
      "text/plain": [
       "<AxesSubplot:xlabel='has_mob_app', ylabel='count'>"
      ]
     },
     "execution_count": 148,
     "metadata": {},
     "output_type": "execute_result"
    },
    {
     "data": {
      "image/png": "[encoded data removed]",
      "text/plain": [
       "<Figure size 432x288 with 1 Axes>"
      ]
     },
     "metadata": {
      "needs_background": "light"
     },
     "output_type": "display_data"
    }
   ],
   "source": [
    "sns.countplot(x=cust['has_mob_app'])"
   ]
  },
  {
   "cell_type": "code",
   "execution_count": 149,
   "id": "d8633d53",
   "metadata": {},
   "outputs": [
    {
     "data": {
      "text/plain": [
       "<AxesSubplot:xlabel='phone_number', ylabel='count'>"
      ]
     },
     "execution_count": 149,
     "metadata": {},
     "output_type": "execute_result"
    },
    {
     "data": {
      "image/png": "[encoded data removed]",
      "text/plain": [
       "<Figure size 432x288 with 1 Axes>"
      ]
     },
     "metadata": {
      "needs_background": "light"
     },
     "output_type": "display_data"
    }
   ],
   "source": [
    "sns.countplot(x=cust['phone_number'])"
   ]
  },
  {
   "cell_type": "code",
   "execution_count": 150,
   "id": "d420db10",
   "metadata": {},
   "outputs": [
    {
     "data": {
      "text/plain": [
       "<AxesSubplot:xlabel='country', ylabel='count'>"
      ]
     },
     "execution_count": 150,
     "metadata": {},
     "output_type": "execute_result"
    },
    {
     "data": {
      "image/png": "[encoded data removed]",
      "text/plain": [
       "<Figure size 432x288 with 1 Axes>"
      ]
     },
     "metadata": {
      "needs_background": "light"
     },
     "output_type": "display_data"
    }
   ],
   "source": [
    "sns.countplot(x=cust.country)"
   ]
  },
  {
   "cell_type": "code",
   "execution_count": 155,
   "id": "1f603734",
   "metadata": {},
   "outputs": [],
   "source": [
    "trans_per_program = data.groupby('program_type')['transaction_amt'].sum()"
   ]
  },
  {
   "cell_type": "code",
   "execution_count": 157,
   "id": "795856c0",
   "metadata": {},
   "outputs": [
    {
     "data": {
      "text/plain": [
       "program_type\n",
       "Accounting, Auditing, and Bookkeeping Services        91724.92\n",
       "Advertising Services                                2062133.41\n",
       "AeroFlot                                            2203577.14\n",
       "Air Conditioning and Refrigeration Repair Shops         210.00\n",
       "Air France                                            90538.07\n",
       "Name: transaction_amt, dtype: float64"
      ]
     },
     "execution_count": 157,
     "metadata": {},
     "output_type": "execute_result"
    }
   ],
   "source": [
    "trans_per_program.head()"
   ]
  },
  {
   "cell_type": "code",
   "execution_count": 158,
   "id": "e9e5c657",
   "metadata": {},
   "outputs": [
    {
     "data": {
      "text/plain": [
       "uid1                       0\n",
       "customer_age               0\n",
       "country                    0\n",
       "city_of_living             0\n",
       "registration_dt            0\n",
       "website_last_visit_date    0\n",
       "email                      0\n",
       "has_mob_app                0\n",
       "phone_number               0\n",
       "push                       0\n",
       "dtype: int64"
      ]
     },
     "execution_count": 158,
     "metadata": {},
     "output_type": "execute_result"
    }
   ],
   "source": [
    "cust.isna().sum()"
   ]
  },
  {
   "cell_type": "code",
   "execution_count": 159,
   "id": "974e88e4",
   "metadata": {},
   "outputs": [],
   "source": [
    "data2 = pd.merge(data,cust,on='uid1',how='left')"
   ]
  },
  {
   "cell_type": "code",
   "execution_count": 160,
   "id": "20e22ca4",
   "metadata": {},
   "outputs": [
    {
     "data": {
      "text/html": [
       "<div>\n",
       "<style scoped>\n",
       "    .dataframe tbody tr th:only-of-type {\n",
       "        vertical-align: middle;\n",
       "    }\n",
       "\n",
       "    .dataframe tbody tr th {\n",
       "        vertical-align: top;\n",
       "    }\n",
       "\n",
       "    .dataframe thead th {\n",
       "        text-align: right;\n",
       "    }\n",
       "</style>\n",
       "<table border=\"1\" class=\"dataframe\">\n",
       "  <thead>\n",
       "    <tr style=\"text-align: right;\">\n",
       "      <th></th>\n",
       "      <th>uid1</th>\n",
       "      <th>date_pur</th>\n",
       "      <th>mcc_id</th>\n",
       "      <th>transaction_amt</th>\n",
       "      <th>transaction_qty</th>\n",
       "      <th>program_type</th>\n",
       "      <th>customer_age</th>\n",
       "      <th>country</th>\n",
       "      <th>city_of_living</th>\n",
       "      <th>registration_dt</th>\n",
       "      <th>website_last_visit_date</th>\n",
       "      <th>email</th>\n",
       "      <th>has_mob_app</th>\n",
       "      <th>phone_number</th>\n",
       "      <th>push</th>\n",
       "    </tr>\n",
       "  </thead>\n",
       "  <tbody>\n",
       "    <tr>\n",
       "      <th>0</th>\n",
       "      <td>14164181</td>\n",
       "      <td>10/09/2020</td>\n",
       "      <td>5499</td>\n",
       "      <td>418.00</td>\n",
       "      <td>1</td>\n",
       "      <td>Miscellaneous Food Stores-Convenience Stores a...</td>\n",
       "      <td>50.0</td>\n",
       "      <td>RUSSIA</td>\n",
       "      <td>Samara</td>\n",
       "      <td>05.12.2017</td>\n",
       "      <td>14.12.2019</td>\n",
       "      <td>1.0</td>\n",
       "      <td>1.0</td>\n",
       "      <td>1.0</td>\n",
       "      <td>1.0</td>\n",
       "    </tr>\n",
       "    <tr>\n",
       "      <th>1</th>\n",
       "      <td>15453249</td>\n",
       "      <td>10/08/2020</td>\n",
       "      <td>5541</td>\n",
       "      <td>1034.00</td>\n",
       "      <td>1</td>\n",
       "      <td>Service Stations (with or without Ancillary Se...</td>\n",
       "      <td>63.0</td>\n",
       "      <td>RUSSIA</td>\n",
       "      <td>Perm</td>\n",
       "      <td>07.11.2017</td>\n",
       "      <td>08.05.2019</td>\n",
       "      <td>0.0</td>\n",
       "      <td>0.0</td>\n",
       "      <td>1.0</td>\n",
       "      <td>0.0</td>\n",
       "    </tr>\n",
       "    <tr>\n",
       "      <th>2</th>\n",
       "      <td>41571339</td>\n",
       "      <td>12/09/2020</td>\n",
       "      <td>5411</td>\n",
       "      <td>57.98</td>\n",
       "      <td>1</td>\n",
       "      <td>Grocery Stores and Supermarkets</td>\n",
       "      <td>22.0</td>\n",
       "      <td>RUSSIA</td>\n",
       "      <td>Novokuznetsk</td>\n",
       "      <td>13.11.2019</td>\n",
       "      <td>06.09.2020</td>\n",
       "      <td>0.0</td>\n",
       "      <td>1.0</td>\n",
       "      <td>1.0</td>\n",
       "      <td>1.0</td>\n",
       "    </tr>\n",
       "    <tr>\n",
       "      <th>3</th>\n",
       "      <td>2044223</td>\n",
       "      <td>28/06/2021</td>\n",
       "      <td>5921</td>\n",
       "      <td>549.40</td>\n",
       "      <td>4</td>\n",
       "      <td>Package Stores--Beer, Wine, and Liquor</td>\n",
       "      <td>33.0</td>\n",
       "      <td>RUSSIA</td>\n",
       "      <td>Voronezh</td>\n",
       "      <td>13.10.2018</td>\n",
       "      <td>08.05.2020</td>\n",
       "      <td>0.0</td>\n",
       "      <td>0.0</td>\n",
       "      <td>1.0</td>\n",
       "      <td>0.0</td>\n",
       "    </tr>\n",
       "    <tr>\n",
       "      <th>4</th>\n",
       "      <td>33493259</td>\n",
       "      <td>20/07/2020</td>\n",
       "      <td>4121</td>\n",
       "      <td>578.00</td>\n",
       "      <td>2</td>\n",
       "      <td>Taxicabs and Limousines</td>\n",
       "      <td>24.0</td>\n",
       "      <td>RUSSIA</td>\n",
       "      <td>Voronezh</td>\n",
       "      <td>30.09.2016</td>\n",
       "      <td>27.07.2018</td>\n",
       "      <td>1.0</td>\n",
       "      <td>0.0</td>\n",
       "      <td>1.0</td>\n",
       "      <td>0.0</td>\n",
       "    </tr>\n",
       "  </tbody>\n",
       "</table>\n",
       "</div>"
      ],
      "text/plain": [
       "       uid1    date_pur mcc_id  transaction_amt  transaction_qty  \\\n",
       "0  14164181  10/09/2020   5499           418.00                1   \n",
       "1  15453249  10/08/2020   5541          1034.00                1   \n",
       "2  41571339  12/09/2020   5411            57.98                1   \n",
       "3   2044223  28/06/2021   5921           549.40                4   \n",
       "4  33493259  20/07/2020   4121           578.00                2   \n",
       "\n",
       "                                        program_type  customer_age country  \\\n",
       "0  Miscellaneous Food Stores-Convenience Stores a...          50.0  RUSSIA   \n",
       "1  Service Stations (with or without Ancillary Se...          63.0  RUSSIA   \n",
       "2                    Grocery Stores and Supermarkets          22.0  RUSSIA   \n",
       "3             Package Stores--Beer, Wine, and Liquor          33.0  RUSSIA   \n",
       "4                            Taxicabs and Limousines          24.0  RUSSIA   \n",
       "\n",
       "  city_of_living registration_dt website_last_visit_date  email  has_mob_app  \\\n",
       "0         Samara      05.12.2017              14.12.2019    1.0          1.0   \n",
       "1           Perm      07.11.2017              08.05.2019    0.0          0.0   \n",
       "2   Novokuznetsk      13.11.2019              06.09.2020    0.0          1.0   \n",
       "3       Voronezh      13.10.2018              08.05.2020    0.0          0.0   \n",
       "4       Voronezh      30.09.2016              27.07.2018    1.0          0.0   \n",
       "\n",
       "   phone_number  push  \n",
       "0           1.0   1.0  \n",
       "1           1.0   0.0  \n",
       "2           1.0   1.0  \n",
       "3           1.0   0.0  \n",
       "4           1.0   0.0  "
      ]
     },
     "execution_count": 160,
     "metadata": {},
     "output_type": "execute_result"
    }
   ],
   "source": [
    "data2.head()"
   ]
  },
  {
   "cell_type": "code",
   "execution_count": 162,
   "id": "bd2742f6",
   "metadata": {},
   "outputs": [
    {
     "data": {
      "text/plain": [
       "<AxesSubplot:>"
      ]
     },
     "execution_count": 162,
     "metadata": {},
     "output_type": "execute_result"
    },
    {
     "data": {
      "image/png": "[encoded data removed]",
      "text/plain": [
       "<Figure size 432x288 with 2 Axes>"
      ]
     },
     "metadata": {
      "needs_background": "light"
     },
     "output_type": "display_data"
    }
   ],
   "source": [
    "sns.heatmap(data.corr(method='pearson'),annot=True)"
   ]
  },
  {
   "cell_type": "code",
   "execution_count": 163,
   "id": "294ba99e",
   "metadata": {},
   "outputs": [],
   "source": [
    "\n",
    "from sklearn.cluster import KMeans\n",
    "\n",
    "\n",
    "import plotly.graph_objects as go"
   ]
  },
  {
   "cell_type": "code",
   "execution_count": 164,
   "id": "6feae415",
   "metadata": {},
   "outputs": [],
   "source": [
    "from sklearn.preprocessing import LabelEncoder"
   ]
  },
  {
   "cell_type": "code",
   "execution_count": 165,
   "id": "b2c9db38",
   "metadata": {},
   "outputs": [],
   "source": [
    "le = LabelEncoder()"
   ]
  },
  {
   "cell_type": "code",
   "execution_count": 166,
   "id": "8cf6c7f7",
   "metadata": {},
   "outputs": [],
   "source": [
    "data2['program_type'] = le.fit_transform(data2['program_type'])"
   ]
  },
  {
   "cell_type": "code",
   "execution_count": 168,
   "id": "33f7047d",
   "metadata": {},
   "outputs": [],
   "source": [
    "data2['city_of_living'] = le.fit_transform(data2['city_of_living'])"
   ]
  },
  {
   "cell_type": "code",
   "execution_count": 171,
   "id": "6cfc9e9b",
   "metadata": {},
   "outputs": [
    {
     "data": {
      "text/plain": [
       "uid1                           0\n",
       "date_pur                       0\n",
       "mcc_id                         0\n",
       "transaction_amt                0\n",
       "transaction_qty                0\n",
       "program_type                   0\n",
       "customer_age               30328\n",
       "country                    30328\n",
       "city_of_living                 0\n",
       "registration_dt            30328\n",
       "website_last_visit_date    30328\n",
       "email                      30328\n",
       "has_mob_app                30328\n",
       "phone_number               30328\n",
       "push                       30328\n",
       "dtype: int64"
      ]
     },
     "execution_count": 171,
     "metadata": {},
     "output_type": "execute_result"
    }
   ],
   "source": [
    "data2.isna().sum()"
   ]
  },
  {
   "cell_type": "code",
   "execution_count": 172,
   "id": "bfb05c84",
   "metadata": {},
   "outputs": [
    {
     "data": {
      "text/plain": [
       "(1048575, 15)"
      ]
     },
     "execution_count": 172,
     "metadata": {},
     "output_type": "execute_result"
    }
   ],
   "source": [
    "data2.shape"
   ]
  },
  {
   "cell_type": "code",
   "execution_count": 173,
   "id": "b99df295",
   "metadata": {},
   "outputs": [],
   "source": [
    "data2 = data2.dropna()"
   ]
  },
  {
   "cell_type": "code",
   "execution_count": 188,
   "id": "2fff873a",
   "metadata": {},
   "outputs": [],
   "source": [
    "X = data2[['transaction_amt','customer_age','city_of_living','has_mob_app']]"
   ]
  },
  {
   "cell_type": "code",
   "execution_count": 189,
   "id": "80b7225a",
   "metadata": {},
   "outputs": [
    {
     "data": {
      "text/plain": [
       "Text(0.5, 1.0, 'Elbow Method For Optimal k')"
      ]
     },
     "execution_count": 189,
     "metadata": {},
     "output_type": "execute_result"
    },
    {
     "data": {
      "image/png": "[encoded data removed]",
      "text/plain": [
       "<Figure size 432x288 with 1 Axes>"
      ]
     },
     "metadata": {
      "needs_background": "light"
     },
     "output_type": "display_data"
    }
   ],
   "source": [
    "# Implemeting Elbow Method to Determine Optimal Clusters\n",
    "\n",
    "Sum_of_squared_distances = []\n",
    "clus_range = range(1,12)\n",
    "for k in clus_range:\n",
    "    km = KMeans(n_clusters=k)\n",
    "    km = km.fit(X)\n",
    "    Sum_of_squared_distances.append(km.inertia_)\n",
    "plt.plot(clus_range, Sum_of_squared_distances)\n",
    "plt.xlabel('k')\n",
    "plt.ylabel('Sum_of_squared_distances')\n",
    "plt.title('Elbow Method For Optimal k') #Showing 3 as optimal Clusters"
   ]
  },
  {
   "cell_type": "code",
   "execution_count": 190,
   "id": "3916d520",
   "metadata": {},
   "outputs": [],
   "source": [
    "\n",
    "kmean = KMeans(n_clusters =2,init='k-means++',random_state=2,algorithm='full')\n",
    "\n",
    "kmean.fit(X)\n",
    "\n",
    "clus=  kmean.predict(X)"
   ]
  },
  {
   "cell_type": "code",
   "execution_count": 191,
   "id": "654ef6c5",
   "metadata": {},
   "outputs": [
    {
     "name": "stdout",
     "output_type": "stream",
     "text": [
      "[[7.61225686e+02 3.96799339e+01 9.91530436e+00 3.51078227e-01]\n",
      " [5.38451200e+06 6.20000000e+01 0.00000000e+00 0.00000000e+00]]\n"
     ]
    }
   ],
   "source": [
    "#Showing Centroids\n",
    "\n",
    "cent = kmean.cluster_centers_\n",
    "\n",
    "\n",
    "print(cent)"
   ]
  },
  {
   "cell_type": "code",
   "execution_count": 192,
   "id": "1f61924d",
   "metadata": {},
   "outputs": [
    {
     "data": {
      "text/plain": [
       "<AxesSubplot:ylabel='count'>"
      ]
     },
     "execution_count": 192,
     "metadata": {},
     "output_type": "execute_result"
    },
    {
     "data": {
      "image/png": "[encoded data removed]",
      "text/plain": [
       "<Figure size 432x288 with 1 Axes>"
      ]
     },
     "metadata": {
      "needs_background": "light"
     },
     "output_type": "display_data"
    }
   ],
   "source": [
    "sns.countplot(x=clus)"
   ]
  },
  {
   "cell_type": "code",
   "execution_count": null,
   "id": "09e353d6",
   "metadata": {},
   "outputs": [],
   "source": []
  }
 ],
 "metadata": {
  "kernelspec": {
   "display_name": "Python 3",
   "language": "python",
   "name": "python3"
  },
  "language_info": {
   "codemirror_mode": {
    "name": "ipython",
    "version": 3
   },
   "file_extension": ".py",
   "mimetype": "text/x-python",
   "name": "python",
   "nbconvert_exporter": "python",
   "pygments_lexer": "ipython3",
   "version": "3.8.8"
  }
 },
 "nbformat": 4,
 "nbformat_minor": 5
}
